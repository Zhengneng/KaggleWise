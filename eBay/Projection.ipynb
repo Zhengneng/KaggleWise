{
 "cells": [
  {
   "cell_type": "code",
   "execution_count": 1,
   "metadata": {
    "collapsed": false
   },
   "outputs": [],
   "source": [
    "import pandas as pd\n",
    "import xgboost as xgb\n",
    "import numpy as np\n",
    "from sklearn import cross_validation \n",
    "import warnings\n",
    "warnings.filterwarnings(\"ignore\")\n",
    "import operator"
   ]
  },
  {
   "cell_type": "code",
   "execution_count": 2,
   "metadata": {
    "collapsed": false
   },
   "outputs": [],
   "source": [
    "#Read data into dataframe and combine data with header\n",
    "df_header = pd.read_csv('header.csv')\n",
    "df_header['name'].tolist()\n",
    "df_train = pd.read_csv('training.tsv', sep = '\\t', names = df_header['name'].tolist())\n",
    "df_test = pd.read_csv('test.tsv', sep = '\\t', names = df_header['name'].tolist())"
   ]
  },
  {
   "cell_type": "code",
   "execution_count": 3,
   "metadata": {
    "collapsed": false
   },
   "outputs": [],
   "source": [
    "\n",
    "y = df_train['sales']  #Use sales as label\n",
    "y[y>0] = 1 #Change sales to binary variable since we are trying to get probability as prediction\n",
    "\n",
    "#Drop deal_id since it should be inrevelant to sales and others since they have id associated with\n",
    "#The reason why I dropped clicks is that there is no clicks in the test set as clicks also is after-the-fact metrics\n",
    "x = df_train.drop(['deal_id','name', 'description', 'manufacturer_name', 'coupon_description',\\\n",
    "                  'clicks','sales'], axis = 1)\n",
    "\n",
    "#Split data to training set as well as CV set\n",
    "x_train, x_valid, y_train, y_valid = cross_validation.train_test_split(x, y, test_size=0.3)\n",
    "\n",
    "x_test = df_test.drop(['deal_id','name', 'description', 'manufacturer_name', 'coupon_description',\\\n",
    "                     'clicks','sales'], axis = 1)\n",
    "\n",
    "#Clean those missing values as 0\n",
    "x_train.fillna(0, inplace = True)\n",
    "x_test.fillna(0, inplace = True)\n",
    "x_valid.fillna(0, inplace = True)"
   ]
  },
  {
   "cell_type": "code",
   "execution_count": 4,
   "metadata": {
    "collapsed": false
   },
   "outputs": [],
   "source": [
    "d_train = xgb.DMatrix(x_train, y_train)\n",
    "d_valid = xgb.DMatrix(x_valid, y_valid)"
   ]
  },
  {
   "cell_type": "code",
   "execution_count": 5,
   "metadata": {
    "collapsed": false
   },
   "outputs": [],
   "source": [
    "param = {'bst:max_depth':10, 'bst:eta':0.155, 'silent':1, 'objective':'binary:logistic','lambda':1.03,\\\n",
    "         'subsample':0.5,'min_samples_split': 800, 'min_samples_leaf':50}\n",
    "param['nthread'] = 4\n",
    "param['eval_metric'] = 'auc'\n",
    "evallist  = [(d_valid,'eval'), (d_train,'train')]"
   ]
  },
  {
   "cell_type": "code",
   "execution_count": 6,
   "metadata": {
    "collapsed": false
   },
   "outputs": [
    {
     "name": "stderr",
     "output_type": "stream",
     "text": [
      "Will train until train error hasn't decreased in 1 rounds.\n",
      "[0]\teval-auc:0.499933\ttrain-auc:0.500558\n",
      "[1]\teval-auc:0.501314\ttrain-auc:0.501095\n",
      "[2]\teval-auc:0.588340\ttrain-auc:0.597689\n",
      "[3]\teval-auc:0.597894\ttrain-auc:0.611990\n",
      "[4]\teval-auc:0.601975\ttrain-auc:0.620387\n",
      "[5]\teval-auc:0.618271\ttrain-auc:0.644497\n",
      "[6]\teval-auc:0.625681\ttrain-auc:0.653925\n",
      "[7]\teval-auc:0.627205\ttrain-auc:0.658941\n",
      "[8]\teval-auc:0.629057\ttrain-auc:0.666658\n",
      "[9]\teval-auc:0.632399\ttrain-auc:0.680526\n",
      "[10]\teval-auc:0.635295\ttrain-auc:0.701973\n",
      "[11]\teval-auc:0.640178\ttrain-auc:0.713566\n",
      "[12]\teval-auc:0.644375\ttrain-auc:0.733233\n",
      "[13]\teval-auc:0.641443\ttrain-auc:0.743742\n",
      "[14]\teval-auc:0.640334\ttrain-auc:0.765297\n",
      "[15]\teval-auc:0.642873\ttrain-auc:0.780092\n",
      "[16]\teval-auc:0.645660\ttrain-auc:0.796645\n",
      "[17]\teval-auc:0.650579\ttrain-auc:0.805368\n",
      "[18]\teval-auc:0.664078\ttrain-auc:0.827495\n",
      "[19]\teval-auc:0.671259\ttrain-auc:0.841405\n",
      "[20]\teval-auc:0.673446\ttrain-auc:0.849384\n",
      "[21]\teval-auc:0.677365\ttrain-auc:0.861658\n",
      "[22]\teval-auc:0.674319\ttrain-auc:0.869253\n",
      "[23]\teval-auc:0.676759\ttrain-auc:0.886424\n",
      "[24]\teval-auc:0.677812\ttrain-auc:0.896062\n",
      "[25]\teval-auc:0.677365\ttrain-auc:0.903035\n",
      "[26]\teval-auc:0.667693\ttrain-auc:0.912292\n",
      "[27]\teval-auc:0.664759\ttrain-auc:0.916210\n",
      "[28]\teval-auc:0.667182\ttrain-auc:0.921490\n",
      "[29]\teval-auc:0.667170\ttrain-auc:0.924308\n",
      "[30]\teval-auc:0.669182\ttrain-auc:0.929466\n",
      "[31]\teval-auc:0.671083\ttrain-auc:0.931444\n",
      "[32]\teval-auc:0.673097\ttrain-auc:0.933528\n",
      "[33]\teval-auc:0.669579\ttrain-auc:0.936389\n",
      "[34]\teval-auc:0.671036\ttrain-auc:0.939206\n",
      "[35]\teval-auc:0.672664\ttrain-auc:0.940874\n",
      "[36]\teval-auc:0.673852\ttrain-auc:0.941573\n",
      "[37]\teval-auc:0.680038\ttrain-auc:0.943170\n",
      "[38]\teval-auc:0.684284\ttrain-auc:0.945985\n",
      "[39]\teval-auc:0.684470\ttrain-auc:0.949177\n",
      "[40]\teval-auc:0.689135\ttrain-auc:0.952744\n",
      "[41]\teval-auc:0.688797\ttrain-auc:0.957501\n",
      "[42]\teval-auc:0.687440\ttrain-auc:0.959032\n",
      "[43]\teval-auc:0.686170\ttrain-auc:0.960374\n",
      "[44]\teval-auc:0.685555\ttrain-auc:0.962069\n",
      "[45]\teval-auc:0.687054\ttrain-auc:0.962920\n",
      "[46]\teval-auc:0.683753\ttrain-auc:0.964283\n",
      "[47]\teval-auc:0.682216\ttrain-auc:0.965649\n",
      "[48]\teval-auc:0.678255\ttrain-auc:0.967501\n",
      "[49]\teval-auc:0.678601\ttrain-auc:0.969036\n",
      "[50]\teval-auc:0.680470\ttrain-auc:0.969646\n",
      "[51]\teval-auc:0.679788\ttrain-auc:0.970703\n",
      "[52]\teval-auc:0.676993\ttrain-auc:0.971572\n",
      "[53]\teval-auc:0.677472\ttrain-auc:0.972787\n",
      "[54]\teval-auc:0.673302\ttrain-auc:0.974645\n",
      "[55]\teval-auc:0.671420\ttrain-auc:0.976936\n",
      "[56]\teval-auc:0.672376\ttrain-auc:0.977554\n",
      "[57]\teval-auc:0.671554\ttrain-auc:0.978766\n",
      "[58]\teval-auc:0.668863\ttrain-auc:0.979486\n",
      "[59]\teval-auc:0.668971\ttrain-auc:0.980331\n",
      "[60]\teval-auc:0.665378\ttrain-auc:0.980796\n",
      "[61]\teval-auc:0.667594\ttrain-auc:0.981681\n",
      "[62]\teval-auc:0.663260\ttrain-auc:0.983699\n",
      "[63]\teval-auc:0.662032\ttrain-auc:0.984236\n",
      "[64]\teval-auc:0.664127\ttrain-auc:0.984995\n",
      "[65]\teval-auc:0.661270\ttrain-auc:0.986061\n",
      "[66]\teval-auc:0.659978\ttrain-auc:0.987134\n",
      "[67]\teval-auc:0.659196\ttrain-auc:0.987174\n",
      "[68]\teval-auc:0.662964\ttrain-auc:0.987411\n",
      "[69]\teval-auc:0.665447\ttrain-auc:0.988686\n",
      "[70]\teval-auc:0.665836\ttrain-auc:0.988901\n",
      "[71]\teval-auc:0.664923\ttrain-auc:0.989453\n",
      "[72]\teval-auc:0.663477\ttrain-auc:0.989833\n",
      "[73]\teval-auc:0.662246\ttrain-auc:0.990346\n",
      "[74]\teval-auc:0.663450\ttrain-auc:0.990602\n",
      "[75]\teval-auc:0.664354\ttrain-auc:0.991031\n",
      "[76]\teval-auc:0.665059\ttrain-auc:0.991400\n",
      "[77]\teval-auc:0.664736\ttrain-auc:0.992084\n",
      "[78]\teval-auc:0.665288\ttrain-auc:0.992315\n",
      "[79]\teval-auc:0.664609\ttrain-auc:0.992557\n",
      "[80]\teval-auc:0.664298\ttrain-auc:0.992955\n",
      "[81]\teval-auc:0.666572\ttrain-auc:0.993303\n",
      "[82]\teval-auc:0.667387\ttrain-auc:0.993676\n",
      "[83]\teval-auc:0.667147\ttrain-auc:0.993878\n",
      "[84]\teval-auc:0.667085\ttrain-auc:0.994135\n",
      "[85]\teval-auc:0.668284\ttrain-auc:0.994239\n",
      "[86]\teval-auc:0.668596\ttrain-auc:0.994577\n",
      "[87]\teval-auc:0.668643\ttrain-auc:0.994821\n",
      "[88]\teval-auc:0.667719\ttrain-auc:0.995148\n",
      "[89]\teval-auc:0.668064\ttrain-auc:0.995367\n",
      "[90]\teval-auc:0.668203\ttrain-auc:0.995513\n",
      "[91]\teval-auc:0.667150\ttrain-auc:0.995589\n",
      "[92]\teval-auc:0.668675\ttrain-auc:0.995766\n",
      "[93]\teval-auc:0.669439\ttrain-auc:0.996010\n",
      "[94]\teval-auc:0.666917\ttrain-auc:0.996204\n",
      "[95]\teval-auc:0.668141\ttrain-auc:0.996537\n",
      "[96]\teval-auc:0.667901\ttrain-auc:0.996577\n",
      "[97]\teval-auc:0.670424\ttrain-auc:0.996806\n",
      "[98]\teval-auc:0.670740\ttrain-auc:0.996948\n",
      "[99]\teval-auc:0.668510\ttrain-auc:0.997110\n",
      "[100]\teval-auc:0.668598\ttrain-auc:0.997161\n",
      "[101]\teval-auc:0.670716\ttrain-auc:0.997248\n",
      "[102]\teval-auc:0.672219\ttrain-auc:0.997327\n",
      "[103]\teval-auc:0.672181\ttrain-auc:0.997610\n",
      "[104]\teval-auc:0.671251\ttrain-auc:0.997761\n",
      "[105]\teval-auc:0.670024\ttrain-auc:0.997881\n",
      "[106]\teval-auc:0.669934\ttrain-auc:0.997945\n",
      "[107]\teval-auc:0.669341\ttrain-auc:0.997993\n",
      "[108]\teval-auc:0.670458\ttrain-auc:0.998168\n",
      "[109]\teval-auc:0.671360\ttrain-auc:0.998130\n",
      "Stopping. Best iteration:\n",
      "[108]\teval-auc:0.670458\ttrain-auc:0.998168\n",
      "\n"
     ]
    }
   ],
   "source": [
    "num_boost_round = 200\n",
    "bst = xgb.train(param, d_train, num_boost_round, evals=evallist, early_stopping_rounds=1)"
   ]
  },
  {
   "cell_type": "code",
   "execution_count": 7,
   "metadata": {
    "collapsed": false
   },
   "outputs": [],
   "source": [
    "from matplotlib import pylab as plt\n",
    "features = list(x_train.columns)\n",
    "outfile = open('xgb.fmap', 'w')\n",
    "i = 0\n",
    "for feat in features:\n",
    "  outfile.write('{0}\\t{1}\\tq\\n'.format(i, feat))\n",
    "  i = i + 1\n",
    "outfile.close()\n",
    "importance = bst.get_fscore(fmap='xgb.fmap')\n",
    "importance = sorted(importance.items(), key=operator.itemgetter(1))\n",
    "df = pd.DataFrame(importance, columns=['feature', 'fscore'])\n",
    "df['fscore'] = df['fscore'] / df['fscore'].sum()\n",
    "\n",
    "# Plotitup\n",
    "plt.figure()\n",
    "df.plot()\n",
    "df.plot(kind='barh', x='feature', y='fscore', legend=False, figsize=(25, 15))\n",
    "plt.title('XGBoost Feature Importance')\n",
    "plt.xlabel('relative importance')\n",
    "plt.gcf().savefig('Feature_Importance_xgb.png')"
   ]
  },
  {
   "cell_type": "code",
   "execution_count": 8,
   "metadata": {
    "collapsed": false
   },
   "outputs": [],
   "source": [
    "score = bst.get_fscore()\n",
    "sorted_x = sorted(score.items(), key=operator.itemgetter(1), reverse = True)"
   ]
  },
  {
   "cell_type": "code",
   "execution_count": 9,
   "metadata": {
    "collapsed": false
   },
   "outputs": [],
   "source": [
    "train_probs = bst.predict(xgb.DMatrix(x_test))\n",
    "#indices = train_probs < 0\n",
    "#train_probs[indices] = 0\n",
    "submission = pd.DataFrame({\"deal_id\": df_test[\"deal_id\"], \"prediction\": train_probs})\n",
    "submission.to_csv(\"xgboost_script_submission.csv\", index = False)"
   ]
  },
  {
   "cell_type": "code",
   "execution_count": null,
   "metadata": {
    "collapsed": true
   },
   "outputs": [],
   "source": []
  }
 ],
 "metadata": {
  "kernelspec": {
   "display_name": "Python 2",
   "language": "python",
   "name": "python2"
  },
  "language_info": {
   "codemirror_mode": {
    "name": "ipython",
    "version": 2
   },
   "file_extension": ".py",
   "mimetype": "text/x-python",
   "name": "python",
   "nbconvert_exporter": "python",
   "pygments_lexer": "ipython2",
   "version": "2.7.11"
  }
 },
 "nbformat": 4,
 "nbformat_minor": 0
}
