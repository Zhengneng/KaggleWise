{
 "cells": [
  {
   "cell_type": "code",
   "execution_count": 1,
   "metadata": {
    "collapsed": false
   },
   "outputs": [],
   "source": [
    "import pandas as pd\n",
    "import xgboost as xgb\n",
    "import numpy as np\n",
    "from sklearn import cross_validation \n",
    "import warnings\n",
    "warnings.filterwarnings(\"ignore\")\n",
    "import operator"
   ]
  },
  {
   "cell_type": "code",
   "execution_count": 2,
   "metadata": {
    "collapsed": false
   },
   "outputs": [],
   "source": [
    "df_header = pd.read_csv('header.csv')\n",
    "df_header['name'].tolist()\n",
    "df_train = pd.read_csv('training.tsv', sep = '\\t', names = df_header['name'].tolist())\n",
    "df_test = pd.read_csv('test.tsv', sep = '\\t', names = df_header['name'].tolist())\n",
    "#df_test"
   ]
  },
  {
   "cell_type": "code",
   "execution_count": 3,
   "metadata": {
    "collapsed": false
   },
   "outputs": [],
   "source": [
    "y = df_train['sales']\n",
    "y[y>0] = 1\n",
    "x = df_train.drop(['name', 'description', 'manufacturer_name', 'coupon_description', 'orig_price', \\\n",
    "                   'clicks', 'sales'], axis = 1, inplace = False)\n",
    "x_train, x_valid, y_train, y_valid = cross_validation.train_test_split(x, y, test_size=0.2)\n",
    "\n",
    "x_test = df_test.drop(['name', 'description', 'manufacturer_name', 'coupon_description', 'orig_price',\\\n",
    "                       'clicks', 'sales'], axis = 1, inplace = False)\n",
    "x_train.fillna(0, inplace = True)\n",
    "x_test.fillna(0, inplace = True)"
   ]
  },
  {
   "cell_type": "code",
   "execution_count": 4,
   "metadata": {
    "collapsed": false
   },
   "outputs": [],
   "source": [
    "x_train.fillna(0, inplace = True)\n",
    "x_valid.fillna(0, inplace = True)\n",
    "d_train = xgb.DMatrix(x_train, y_train)\n",
    "d_valid = xgb.DMatrix(x_valid, y_valid)"
   ]
  },
  {
   "cell_type": "code",
   "execution_count": 17,
   "metadata": {
    "collapsed": false
   },
   "outputs": [],
   "source": [
    "param = {'bst:max_depth':5, 'bst:eta':1, 'silent':1, 'objective':'binary:logistic', 'subsample':0.5, \\\n",
    "        'min_samples_split': 800, 'min_samples_leaf':50, 'lambda': 1, 'gamma': 0}\n",
    "param['nthread'] = 4\n",
    "param['eval_metric'] = 'auc'\n",
    "evallist  = [(d_valid,'eval'), (d_train,'train')]"
   ]
  },
  {
   "cell_type": "code",
   "execution_count": 18,
   "metadata": {
    "collapsed": false
   },
   "outputs": [
    {
     "name": "stderr",
     "output_type": "stream",
     "text": [
      "Will train until train error hasn't decreased in 1 rounds.\n",
      "[0]\teval-auc:0.500000\ttrain-auc:0.500000\n",
      "[1]\teval-auc:0.637242\ttrain-auc:0.624645\n",
      "[2]\teval-auc:0.635538\ttrain-auc:0.658780\n",
      "[3]\teval-auc:0.645062\ttrain-auc:0.682736\n",
      "[4]\teval-auc:0.639535\ttrain-auc:0.690439\n",
      "[5]\teval-auc:0.630884\ttrain-auc:0.700765\n",
      "[6]\teval-auc:0.589791\ttrain-auc:0.702856\n",
      "[7]\teval-auc:0.597200\ttrain-auc:0.711389\n",
      "[8]\teval-auc:0.608839\ttrain-auc:0.723990\n",
      "[9]\teval-auc:0.612870\ttrain-auc:0.729863\n",
      "[10]\teval-auc:0.615007\ttrain-auc:0.742738\n",
      "[11]\teval-auc:0.602546\ttrain-auc:0.750211\n",
      "[12]\teval-auc:0.591806\ttrain-auc:0.759750\n",
      "[13]\teval-auc:0.587759\ttrain-auc:0.765246\n",
      "[14]\teval-auc:0.581603\ttrain-auc:0.774038\n",
      "[15]\teval-auc:0.588853\ttrain-auc:0.778280\n",
      "[16]\teval-auc:0.599013\ttrain-auc:0.786474\n",
      "[17]\teval-auc:0.598216\ttrain-auc:0.791006\n",
      "[18]\teval-auc:0.591534\ttrain-auc:0.796452\n",
      "[19]\teval-auc:0.598361\ttrain-auc:0.801831\n",
      "[20]\teval-auc:0.589423\ttrain-auc:0.804884\n",
      "[21]\teval-auc:0.595993\ttrain-auc:0.813824\n",
      "[22]\teval-auc:0.599855\ttrain-auc:0.819924\n",
      "[23]\teval-auc:0.591388\ttrain-auc:0.826097\n",
      "[24]\teval-auc:0.603506\ttrain-auc:0.832336\n",
      "[25]\teval-auc:0.604712\ttrain-auc:0.835624\n",
      "[26]\teval-auc:0.608185\ttrain-auc:0.840151\n",
      "[27]\teval-auc:0.609099\ttrain-auc:0.845425\n",
      "[28]\teval-auc:0.604558\ttrain-auc:0.847757\n",
      "[29]\teval-auc:0.610285\ttrain-auc:0.854369\n",
      "[30]\teval-auc:0.606604\ttrain-auc:0.858845\n",
      "[31]\teval-auc:0.606396\ttrain-auc:0.861697\n",
      "[32]\teval-auc:0.601764\ttrain-auc:0.864587\n",
      "[33]\teval-auc:0.603294\ttrain-auc:0.868989\n",
      "[34]\teval-auc:0.605018\ttrain-auc:0.871313\n",
      "[35]\teval-auc:0.605490\ttrain-auc:0.874780\n",
      "[36]\teval-auc:0.602386\ttrain-auc:0.874863\n",
      "[37]\teval-auc:0.605144\ttrain-auc:0.876976\n",
      "[38]\teval-auc:0.599225\ttrain-auc:0.877975\n",
      "[39]\teval-auc:0.606338\ttrain-auc:0.881256\n",
      "[40]\teval-auc:0.611892\ttrain-auc:0.883485\n",
      "[41]\teval-auc:0.614287\ttrain-auc:0.886588\n",
      "[42]\teval-auc:0.613824\ttrain-auc:0.888606\n",
      "[43]\teval-auc:0.622503\ttrain-auc:0.890264\n",
      "[44]\teval-auc:0.623354\ttrain-auc:0.892663\n",
      "[45]\teval-auc:0.628462\ttrain-auc:0.893335\n",
      "[46]\teval-auc:0.615702\ttrain-auc:0.893854\n",
      "[47]\teval-auc:0.614814\ttrain-auc:0.897066\n",
      "[48]\teval-auc:0.618604\ttrain-auc:0.899499\n",
      "[49]\teval-auc:0.622229\ttrain-auc:0.903470\n",
      "[50]\teval-auc:0.626306\ttrain-auc:0.905879\n",
      "[51]\teval-auc:0.628501\ttrain-auc:0.907589\n",
      "[52]\teval-auc:0.621445\ttrain-auc:0.910668\n",
      "[53]\teval-auc:0.614653\ttrain-auc:0.912860\n",
      "[54]\teval-auc:0.614842\ttrain-auc:0.913632\n",
      "[55]\teval-auc:0.615045\ttrain-auc:0.916198\n",
      "[56]\teval-auc:0.612659\ttrain-auc:0.917697\n",
      "[57]\teval-auc:0.611830\ttrain-auc:0.918573\n",
      "[58]\teval-auc:0.610861\ttrain-auc:0.919507\n",
      "[59]\teval-auc:0.603365\ttrain-auc:0.920741\n",
      "[60]\teval-auc:0.608836\ttrain-auc:0.921228\n",
      "[61]\teval-auc:0.614240\ttrain-auc:0.923150\n",
      "[62]\teval-auc:0.610405\ttrain-auc:0.923801\n",
      "[63]\teval-auc:0.614113\ttrain-auc:0.923897\n",
      "[64]\teval-auc:0.619581\ttrain-auc:0.928113\n",
      "[65]\teval-auc:0.613906\ttrain-auc:0.930108\n",
      "[66]\teval-auc:0.620429\ttrain-auc:0.931220\n",
      "[67]\teval-auc:0.620772\ttrain-auc:0.933018\n",
      "[68]\teval-auc:0.617416\ttrain-auc:0.933974\n",
      "[69]\teval-auc:0.621040\ttrain-auc:0.935738\n",
      "[70]\teval-auc:0.623242\ttrain-auc:0.937419\n",
      "[71]\teval-auc:0.621744\ttrain-auc:0.938817\n",
      "[72]\teval-auc:0.622003\ttrain-auc:0.939380\n",
      "[73]\teval-auc:0.620400\ttrain-auc:0.940476\n",
      "[74]\teval-auc:0.626357\ttrain-auc:0.941892\n",
      "[75]\teval-auc:0.614781\ttrain-auc:0.942492\n",
      "[76]\teval-auc:0.620658\ttrain-auc:0.942806\n",
      "[77]\teval-auc:0.623561\ttrain-auc:0.944883\n",
      "[78]\teval-auc:0.633418\ttrain-auc:0.945705\n",
      "[79]\teval-auc:0.626369\ttrain-auc:0.946762\n",
      "[80]\teval-auc:0.623521\ttrain-auc:0.947287\n",
      "[81]\teval-auc:0.614757\ttrain-auc:0.947058\n",
      "Stopping. Best iteration:\n",
      "[80]\teval-auc:0.623521\ttrain-auc:0.947287\n",
      "\n"
     ]
    }
   ],
   "source": [
    "num_round = 500\n",
    "bst = xgb.train(param, d_train, num_round, evals=evallist, early_stopping_rounds=1)"
   ]
  },
  {
   "cell_type": "code",
   "execution_count": 7,
   "metadata": {
    "collapsed": false
   },
   "outputs": [],
   "source": [
    "from matplotlib import pylab as plt\n",
    "features = list(x_train.columns)\n",
    "outfile = open('xgb.fmap', 'w')\n",
    "i = 0\n",
    "for feat in features:\n",
    "  outfile.write('{0}\\t{1}\\tq\\n'.format(i, feat))\n",
    "  i = i + 1\n",
    "outfile.close()\n",
    "importance = bst.get_fscore(fmap='xgb.fmap')\n",
    "importance = sorted(importance.items(), key=operator.itemgetter(1))\n",
    "df = pd.DataFrame(importance, columns=['feature', 'fscore'])\n",
    "df['fscore'] = df['fscore'] / df['fscore'].sum()\n",
    "\n",
    "# Plotitup\n",
    "plt.figure()\n",
    "df.plot()\n",
    "df.plot(kind='barh', x='feature', y='fscore', legend=False, figsize=(25, 15))\n",
    "plt.title('XGBoost Feature Importance')\n",
    "plt.xlabel('relative importance')\n",
    "plt.gcf().savefig('Feature_Importance_xgb.png')"
   ]
  },
  {
   "cell_type": "code",
   "execution_count": 8,
   "metadata": {
    "collapsed": false
   },
   "outputs": [],
   "source": [
    "score = bst.get_fscore()\n",
    "sorted_x = sorted(score.items(), key=operator.itemgetter(1), reverse = True)"
   ]
  },
  {
   "cell_type": "code",
   "execution_count": 9,
   "metadata": {
    "collapsed": false
   },
   "outputs": [],
   "source": [
    "train_probs = bst.predict(xgb.DMatrix(x_test))\n",
    "indices = train_probs < 0\n",
    "train_probs[indices] = 0\n",
    "submission = pd.DataFrame({\"deal_id\": df_test[\"deal_id\"], \"prediction\": train_probs})\n",
    "submission.to_csv(\"xgboost_script_submission.csv\", index = False)"
   ]
  },
  {
   "cell_type": "code",
   "execution_count": 10,
   "metadata": {
    "collapsed": false
   },
   "outputs": [
    {
     "data": {
      "text/plain": [
       "array([ 0.49853516,  0.49853516,  0.49853516, ...,  0.49853516,\n",
       "        0.49853516,  0.49853516], dtype=float32)"
      ]
     },
     "execution_count": 10,
     "metadata": {},
     "output_type": "execute_result"
    }
   ],
   "source": [
    "train_probs"
   ]
  },
  {
   "cell_type": "code",
   "execution_count": null,
   "metadata": {
    "collapsed": true
   },
   "outputs": [],
   "source": []
  }
 ],
 "metadata": {
  "kernelspec": {
   "display_name": "Python 2",
   "language": "python",
   "name": "python2"
  },
  "language_info": {
   "codemirror_mode": {
    "name": "ipython",
    "version": 2
   },
   "file_extension": ".py",
   "mimetype": "text/x-python",
   "name": "python",
   "nbconvert_exporter": "python",
   "pygments_lexer": "ipython2",
   "version": "2.7.11"
  }
 },
 "nbformat": 4,
 "nbformat_minor": 0
}
