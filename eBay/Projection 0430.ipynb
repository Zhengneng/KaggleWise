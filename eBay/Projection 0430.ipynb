{
 "cells": [
  {
   "cell_type": "code",
   "execution_count": 1,
   "metadata": {
    "collapsed": false
   },
   "outputs": [],
   "source": [
    "import pandas as pd\n",
    "import xgboost as xgb\n",
    "import numpy as np\n",
    "from sklearn import cross_validation \n",
    "import warnings\n",
    "warnings.filterwarnings(\"ignore\")\n",
    "import operator"
   ]
  },
  {
   "cell_type": "code",
   "execution_count": 2,
   "metadata": {
    "collapsed": false
   },
   "outputs": [],
   "source": [
    "df_header = pd.read_csv('header.csv')\n",
    "df_header['name'].tolist()\n",
    "df_train = pd.read_csv('training.tsv', sep = '\\t', names = df_header['name'].tolist())\n",
    "df_test = pd.read_csv('test.tsv', sep = '\\t', names = df_header['name'].tolist())\n",
    "#df_test"
   ]
  },
  {
   "cell_type": "code",
   "execution_count": 3,
   "metadata": {
    "collapsed": false
   },
   "outputs": [],
   "source": [
    "y = df_train['sales']\n",
    "y[y>0] = 1\n",
    "x = df_train.drop(['deal_id','name', 'description', 'sku', 'manufacturer_name', 'coupon_description', 'clicks', 'sales'],\\\n",
    "                        axis = 1, inplace = False)\n",
    "\n",
    "x_train, x_valid, y_train, y_valid = cross_validation.train_test_split(x, y, test_size=0.2)\n",
    "\n",
    "x_test = df_test.drop(['deal_id','name', 'description', 'sku', 'manufacturer_name', 'coupon_description', 'clicks', 'sales'],\\\n",
    "                        axis = 1, inplace = False)"
   ]
  },
  {
   "cell_type": "code",
   "execution_count": 4,
   "metadata": {
    "collapsed": false
   },
   "outputs": [],
   "source": [
    "d_train = xgb.DMatrix(x_train, y_train)\n",
    "d_valid = xgb.DMatrix(x_valid, y_valid)"
   ]
  },
  {
   "cell_type": "code",
   "execution_count": 5,
   "metadata": {
    "collapsed": false
   },
   "outputs": [],
   "source": [
    "param = {'bst:max_depth':6, 'bst:eta':0.0001, 'silent':1, 'objective':'binary:logistic', 'subsample':0.5, \\\n",
    "        'min_samples_split': 800, 'min_samples_leaf':50, 'lambda': 0.8, 'gamma': 0.2}\n",
    "param['nthread'] = 4\n",
    "param['eval_metric'] = 'auc'\n",
    "evallist  = [(d_valid,'eval'), (d_train,'train')]"
   ]
  },
  {
   "cell_type": "code",
   "execution_count": 6,
   "metadata": {
    "collapsed": false
   },
   "outputs": [
    {
     "name": "stdout",
     "output_type": "stream",
     "text": [
      "Will train until train error hasn't decreased in 1 rounds.\n",
      "[0]\teval-auc:0.501956\ttrain-auc:0.500984\n",
      "[1]\teval-auc:0.501956\ttrain-auc:0.500984\n",
      "Stopping. Best iteration:\n",
      "[0]\teval-auc:0.501956\ttrain-auc:0.500984\n",
      "\n"
     ]
    }
   ],
   "source": [
    "num_round = 100\n",
    "bst = xgb.train(param, d_train, num_round, evals=evallist, early_stopping_rounds=1)"
   ]
  },
  {
   "cell_type": "code",
   "execution_count": 7,
   "metadata": {
    "collapsed": false
   },
   "outputs": [],
   "source": [
    "from matplotlib import pylab as plt\n",
    "features = list(x_train.columns)\n",
    "outfile = open('xgb.fmap', 'w')\n",
    "i = 0\n",
    "for feat in features:\n",
    "  outfile.write('{0}\\t{1}\\tq\\n'.format(i, feat))\n",
    "  i = i + 1\n",
    "outfile.close()\n",
    "importance = bst.get_fscore(fmap='xgb.fmap')\n",
    "importance = sorted(importance.items(), key=operator.itemgetter(1))\n",
    "df = pd.DataFrame(importance, columns=['feature', 'fscore'])\n",
    "df['fscore'] = df['fscore'] / df['fscore'].sum()\n",
    "\n",
    "# Plotitup\n",
    "plt.figure()\n",
    "df.plot()\n",
    "df.plot(kind='barh', x='feature', y='fscore', legend=False, figsize=(25, 15))\n",
    "plt.title('XGBoost Feature Importance')\n",
    "plt.xlabel('relative importance')\n",
    "plt.gcf().savefig('Feature_Importance_xgb.png')"
   ]
  },
  {
   "cell_type": "code",
   "execution_count": 8,
   "metadata": {
    "collapsed": false
   },
   "outputs": [],
   "source": [
    "score = bst.get_fscore()\n",
    "sorted_x = sorted(score.items(), key=operator.itemgetter(1), reverse = True)"
   ]
  },
  {
   "cell_type": "code",
   "execution_count": 9,
   "metadata": {
    "collapsed": false
   },
   "outputs": [],
   "source": [
    "train_probs = bst.predict(xgb.DMatrix(x_test))\n",
    "indices = train_probs < 0\n",
    "train_probs[indices] = 0\n",
    "submission = pd.DataFrame({\"deal_id\": df_test[\"deal_id\"], \"prediction\": train_probs})\n",
    "submission.to_csv(\"xgboost_script_submission.csv\", index = False)"
   ]
  },
  {
   "cell_type": "code",
   "execution_count": 10,
   "metadata": {
    "collapsed": false
   },
   "outputs": [
    {
     "data": {
      "text/plain": [
       "array([ 0.2612623,  0.2612623,  0.2612623, ...,  0.2612623,  0.2612623,\n",
       "        0.2612623], dtype=float32)"
      ]
     },
     "execution_count": 10,
     "metadata": {},
     "output_type": "execute_result"
    }
   ],
   "source": [
    "train_probs"
   ]
  },
  {
   "cell_type": "code",
   "execution_count": null,
   "metadata": {
    "collapsed": true
   },
   "outputs": [],
   "source": []
  }
 ],
 "metadata": {
  "kernelspec": {
   "display_name": "Python 2",
   "language": "python",
   "name": "python2"
  },
  "language_info": {
   "codemirror_mode": {
    "name": "ipython",
    "version": 2
   },
   "file_extension": ".py",
   "mimetype": "text/x-python",
   "name": "python",
   "nbconvert_exporter": "python",
   "pygments_lexer": "ipython2",
   "version": "2.7.10"
  }
 },
 "nbformat": 4,
 "nbformat_minor": 0
}
